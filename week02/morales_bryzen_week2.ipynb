{
 "cells": [
  {
   "cell_type": "markdown",
   "id": "2cd988bf-539b-4f81-81ea-a034f29d7262",
   "metadata": {},
   "source": [
    "# Introduction\n",
    "\n",
    "In the past week or so, the wildfires in LA had devastating effects on many families. These impacts, unfortunately, is distributed unequally across the affected neighborhoods (See [brief](https://latino.ucla.edu/research/wildfires-and-latino-communities-health-economic-and-preparedness-challenges/) from the UCLA Latino Policy & Politics Institute and UCLA Center for Neighborhood Knowledge).\n",
    "\n",
    "For this data exploration assignment, my goal is to familiarize myself on the housing indicators of the American Community Survey (ACS) and CalEnviroScreen 4.0. My hope is to practice my skills in merging dataset in Python and querying the data that I only need. I note that I **do not intend** to isolate the neighborhoods affected by the wildfires; but, my goal is to get a sense of the \"housing\" variables that may be relevant for further analysis our group may eventually do regarding the impacts of wildfires.\n",
    "\n",
    "I am going to be using the recent, 5-year ACS estimates from 2015-2019 to extract the count of households who are renters at the tract-level. Further, I will also use the CalEnviroScreen 4.0 indicators. All of the data came from the sources, Social Explorer and the Office of Environmental Health Hazard Assessment-CA."
   ]
  },
  {
   "cell_type": "code",
   "execution_count": 2,
   "id": "7f7c87fb-f04f-472c-9866-5f44c8704234",
   "metadata": {},
   "outputs": [],
   "source": [
    "# importing necessary packages or libraries\n",
    "\n",
    "import pandas as pd\n",
    "import geopandas as gpd"
   ]
  },
  {
   "cell_type": "markdown",
   "id": "0233ac22-257e-4cbc-933f-94e3ad9be815",
   "metadata": {},
   "source": [
    "# ACS Dataset"
   ]
  },
  {
   "cell_type": "code",
   "execution_count": 3,
   "id": "7ad05051-7134-4e2f-9f2f-620f3ffb811e",
   "metadata": {},
   "outputs": [],
   "source": [
    "# importing the ACS data from the cloned repo from week 1\n",
    "\n",
    "acs = pd.read_csv('/home/jovyan/UP221-bryzen/data/acs_15_19/acs_15_19.csv')"
   ]
  },
  {
   "cell_type": "code",
   "execution_count": 4,
   "id": "5c99368b-04c3-4393-b9f5-3a4e072ee8bd",
   "metadata": {},
   "outputs": [
    {
     "data": {
      "text/plain": [
       "(8057, 63)"
      ]
     },
     "execution_count": 4,
     "metadata": {},
     "output_type": "execute_result"
    }
   ],
   "source": [
    "# diagnosing the dataset's number of rows and columns\n",
    "\n",
    "acs.shape"
   ]
  },
  {
   "cell_type": "code",
   "execution_count": 5,
   "id": "30915a1b-9dc7-4a53-8b82-02a519e2c6b6",
   "metadata": {},
   "outputs": [
    {
     "name": "stdout",
     "output_type": "stream",
     "text": [
      "<class 'pandas.core.frame.DataFrame'>\n",
      "RangeIndex: 8057 entries, 0 to 8056\n",
      "Data columns (total 63 columns):\n",
      " #   Column                Non-Null Count  Dtype  \n",
      "---  ------                --------------  -----  \n",
      " 0   Geo_FIPS              8057 non-null   int64  \n",
      " 1   Geo_NAME              8057 non-null   object \n",
      " 2   Geo_QName             8057 non-null   object \n",
      " 3   Geo_STUSAB            8057 non-null   object \n",
      " 4   Geo_SUMLEV            8057 non-null   int64  \n",
      " 5   Geo_GEOCOMP           8057 non-null   int64  \n",
      " 6   Geo_FILEID            8057 non-null   object \n",
      " 7   Geo_LOGRECNO          8057 non-null   int64  \n",
      " 8   Geo_US                0 non-null      float64\n",
      " 9   Geo_REGION            0 non-null      float64\n",
      " 10  Geo_DIVISION          0 non-null      float64\n",
      " 11  Geo_STATECE           0 non-null      float64\n",
      " 12  Geo_STATE             8057 non-null   int64  \n",
      " 13  Geo_COUNTY            8057 non-null   int64  \n",
      " 14  Geo_COUSUB            0 non-null      float64\n",
      " 15  Geo_PLACE             0 non-null      float64\n",
      " 16  Geo_PLACESE           0 non-null      float64\n",
      " 17  Geo_TRACT             8057 non-null   int64  \n",
      " 18  Geo_BLKGRP            0 non-null      float64\n",
      " 19  Geo_CONCIT            0 non-null      float64\n",
      " 20  Geo_AIANHH            0 non-null      float64\n",
      " 21  Geo_AIANHHFP          0 non-null      float64\n",
      " 22  Geo_AIHHTLI           0 non-null      float64\n",
      " 23  Geo_AITSCE            0 non-null      float64\n",
      " 24  Geo_AITS              0 non-null      float64\n",
      " 25  Geo_ANRC              0 non-null      float64\n",
      " 26  Geo_CBSA              0 non-null      float64\n",
      " 27  Geo_CSA               0 non-null      float64\n",
      " 28  Geo_METDIV            0 non-null      float64\n",
      " 29  Geo_MACC              0 non-null      float64\n",
      " 30  Geo_MEMI              0 non-null      float64\n",
      " 31  Geo_NECTA             0 non-null      float64\n",
      " 32  Geo_CNECTA            0 non-null      float64\n",
      " 33  Geo_NECTADIV          0 non-null      float64\n",
      " 34  Geo_UA                0 non-null      float64\n",
      " 35  Geo_UACP              0 non-null      float64\n",
      " 36  Geo_CDCURR            0 non-null      float64\n",
      " 37  Geo_SLDU              0 non-null      float64\n",
      " 38  Geo_SLDL              0 non-null      float64\n",
      " 39  Geo_VTD               0 non-null      float64\n",
      " 40  Geo_ZCTA3             0 non-null      float64\n",
      " 41  Geo_ZCTA5             0 non-null      float64\n",
      " 42  Geo_SUBMCD            0 non-null      float64\n",
      " 43  Geo_SDELM             0 non-null      float64\n",
      " 44  Geo_SDSEC             0 non-null      float64\n",
      " 45  Geo_SDUNI             0 non-null      float64\n",
      " 46  Geo_UR                0 non-null      float64\n",
      " 47  Geo_PCI               0 non-null      float64\n",
      " 48  Geo_TAZ               0 non-null      float64\n",
      " 49  Geo_UGA               0 non-null      float64\n",
      " 50  Geo_PUMA5             0 non-null      float64\n",
      " 51  Geo_PUMA1             0 non-null      float64\n",
      " 52  Geo_GEOID             8057 non-null   object \n",
      " 53  Geo_BTTR              0 non-null      float64\n",
      " 54  Geo_BTBG              0 non-null      float64\n",
      " 55  Geo_AREALAND          8057 non-null   int64  \n",
      " 56  Geo_AREAWATR          8057 non-null   int64  \n",
      " 57  ACS19_5yr_B25003001   8057 non-null   int64  \n",
      " 58  ACS19_5yr_B25003002   8057 non-null   int64  \n",
      " 59  ACS19_5yr_B25003003   8057 non-null   int64  \n",
      " 60  ACS19_5yr_B25003001s  8057 non-null   float64\n",
      " 61  ACS19_5yr_B25003002s  8057 non-null   float64\n",
      " 62  ACS19_5yr_B25003003s  8057 non-null   float64\n",
      "dtypes: float64(46), int64(12), object(5)\n",
      "memory usage: 3.9+ MB\n"
     ]
    }
   ],
   "source": [
    "# diagnosing the dataset's variables and their type\n",
    "\n",
    "acs.info()"
   ]
  },
  {
   "cell_type": "markdown",
   "id": "a9cecd75-2a6e-47f4-88cd-b848944b7bc2",
   "metadata": {},
   "source": [
    "There are 8057 rows and 63 columns in the dataset we exported. This tells us that there are about 8057 tracts that are in the dataset and 63 different variables.\n",
    "\n",
    "As we can also see, there were **too many variables** that I exported from social explorer. Using the data dictionary, we can see that the variable of interest is named \"B25003003\" or renter occupied. However, based on the acs.info() output, the variable name is 'ACS23_5yr_B25003003'. For now, I am going to select this variable and two tract identifier variables, \"Geo_NAME\" and \"Geo_FIPS.\""
   ]
  },
  {
   "cell_type": "code",
   "execution_count": 6,
   "id": "8a60a09d-7a1d-44c5-8135-e21e9c5199da",
   "metadata": {},
   "outputs": [],
   "source": [
    "# selecting the necessary columns\n",
    "\n",
    "selected_columns = acs[[\"ACS19_5yr_B25003003\", \"Geo_NAME\", \"Geo_FIPS\"]]"
   ]
  },
  {
   "cell_type": "code",
   "execution_count": 7,
   "id": "1c3fe21b-fe1a-4df5-8bf4-527b49b5d814",
   "metadata": {},
   "outputs": [],
   "source": [
    "# renaming the columns\n",
    "\n",
    "selected_columns.columns = ['Renter Occupied Counts', 'Census Tract #', 'FIPS']"
   ]
  },
  {
   "cell_type": "code",
   "execution_count": 8,
   "id": "bf795d26-ca0c-4303-bfed-70bdd5a8e4b2",
   "metadata": {},
   "outputs": [
    {
     "data": {
      "text/html": [
       "<div>\n",
       "<style scoped>\n",
       "    .dataframe tbody tr th:only-of-type {\n",
       "        vertical-align: middle;\n",
       "    }\n",
       "\n",
       "    .dataframe tbody tr th {\n",
       "        vertical-align: top;\n",
       "    }\n",
       "\n",
       "    .dataframe thead th {\n",
       "        text-align: right;\n",
       "    }\n",
       "</style>\n",
       "<table border=\"1\" class=\"dataframe\">\n",
       "  <thead>\n",
       "    <tr style=\"text-align: right;\">\n",
       "      <th></th>\n",
       "      <th>Renter Occupied Counts</th>\n",
       "      <th>Census Tract #</th>\n",
       "      <th>FIPS</th>\n",
       "    </tr>\n",
       "  </thead>\n",
       "  <tbody>\n",
       "    <tr>\n",
       "      <th>0</th>\n",
       "      <td>143</td>\n",
       "      <td>Census Tract 4001</td>\n",
       "      <td>6001400100</td>\n",
       "    </tr>\n",
       "    <tr>\n",
       "      <th>1</th>\n",
       "      <td>322</td>\n",
       "      <td>Census Tract 4002</td>\n",
       "      <td>6001400200</td>\n",
       "    </tr>\n",
       "    <tr>\n",
       "      <th>2</th>\n",
       "      <td>1427</td>\n",
       "      <td>Census Tract 4003</td>\n",
       "      <td>6001400300</td>\n",
       "    </tr>\n",
       "    <tr>\n",
       "      <th>3</th>\n",
       "      <td>1064</td>\n",
       "      <td>Census Tract 4004</td>\n",
       "      <td>6001400400</td>\n",
       "    </tr>\n",
       "    <tr>\n",
       "      <th>4</th>\n",
       "      <td>968</td>\n",
       "      <td>Census Tract 4005</td>\n",
       "      <td>6001400500</td>\n",
       "    </tr>\n",
       "    <tr>\n",
       "      <th>...</th>\n",
       "      <td>...</td>\n",
       "      <td>...</td>\n",
       "      <td>...</td>\n",
       "    </tr>\n",
       "    <tr>\n",
       "      <th>8052</th>\n",
       "      <td>517</td>\n",
       "      <td>Census Tract 408</td>\n",
       "      <td>6115040800</td>\n",
       "    </tr>\n",
       "    <tr>\n",
       "      <th>8053</th>\n",
       "      <td>268</td>\n",
       "      <td>Census Tract 409.01</td>\n",
       "      <td>6115040901</td>\n",
       "    </tr>\n",
       "    <tr>\n",
       "      <th>8054</th>\n",
       "      <td>341</td>\n",
       "      <td>Census Tract 409.02</td>\n",
       "      <td>6115040902</td>\n",
       "    </tr>\n",
       "    <tr>\n",
       "      <th>8055</th>\n",
       "      <td>544</td>\n",
       "      <td>Census Tract 410</td>\n",
       "      <td>6115041000</td>\n",
       "    </tr>\n",
       "    <tr>\n",
       "      <th>8056</th>\n",
       "      <td>502</td>\n",
       "      <td>Census Tract 411</td>\n",
       "      <td>6115041100</td>\n",
       "    </tr>\n",
       "  </tbody>\n",
       "</table>\n",
       "<p>8057 rows × 3 columns</p>\n",
       "</div>"
      ],
      "text/plain": [
       "      Renter Occupied Counts       Census Tract #        FIPS\n",
       "0                        143    Census Tract 4001  6001400100\n",
       "1                        322    Census Tract 4002  6001400200\n",
       "2                       1427    Census Tract 4003  6001400300\n",
       "3                       1064    Census Tract 4004  6001400400\n",
       "4                        968    Census Tract 4005  6001400500\n",
       "...                      ...                  ...         ...\n",
       "8052                     517     Census Tract 408  6115040800\n",
       "8053                     268  Census Tract 409.01  6115040901\n",
       "8054                     341  Census Tract 409.02  6115040902\n",
       "8055                     544     Census Tract 410  6115041000\n",
       "8056                     502     Census Tract 411  6115041100\n",
       "\n",
       "[8057 rows x 3 columns]"
      ]
     },
     "execution_count": 8,
     "metadata": {},
     "output_type": "execute_result"
    }
   ],
   "source": [
    "# checking if successfully selected and renamed variables of interest\n",
    "\n",
    "selected_columns"
   ]
  },
  {
   "cell_type": "markdown",
   "id": "5b7185ac-3f4e-493a-a659-a6dbb3ec4ead",
   "metadata": {},
   "source": [
    "# CalEnviroScreen 4.0 Dataset"
   ]
  },
  {
   "cell_type": "code",
   "execution_count": 9,
   "id": "b3b927cf-0c03-4b34-8ab0-889bfdaf8a60",
   "metadata": {},
   "outputs": [],
   "source": [
    "# importing data from CalEnviroScreen\n",
    "\n",
    "environment = pd.read_excel('/home/jovyan/UP221-bryzen/data/environment.xlsx')"
   ]
  },
  {
   "cell_type": "code",
   "execution_count": 10,
   "id": "9cb0b2b0-a8bf-4305-bc5b-b0b62d1df746",
   "metadata": {},
   "outputs": [
    {
     "data": {
      "text/plain": [
       "(8035, 58)"
      ]
     },
     "execution_count": 10,
     "metadata": {},
     "output_type": "execute_result"
    }
   ],
   "source": [
    "# diagnosing the shape of the excel file\n",
    "\n",
    "environment.shape"
   ]
  },
  {
   "cell_type": "markdown",
   "id": "8c040b44-724a-4387-8f7c-5b4cacfead23",
   "metadata": {},
   "source": [
    "I found that there's 8035 rows and 58 columns, which indicates that there are 8035 tracts and 58 different variables in the CalEnviroScreen 4.0 data. This also tells us that there are some discrepancy between the two datasets: the ACS and CalEnviroScreen data. I suspect that this may be because of incomplete/missing data in some of the Census Tracts. What this tell us, however, is we have to proceed with caution with any type of analysis that we are going to do."
   ]
  },
  {
   "cell_type": "code",
   "execution_count": 11,
   "id": "de782e0c-ad35-4723-aac5-eaff76fba8b9",
   "metadata": {},
   "outputs": [
    {
     "data": {
      "text/html": [
       "<div>\n",
       "<style scoped>\n",
       "    .dataframe tbody tr th:only-of-type {\n",
       "        vertical-align: middle;\n",
       "    }\n",
       "\n",
       "    .dataframe tbody tr th {\n",
       "        vertical-align: top;\n",
       "    }\n",
       "\n",
       "    .dataframe thead th {\n",
       "        text-align: right;\n",
       "    }\n",
       "</style>\n",
       "<table border=\"1\" class=\"dataframe\">\n",
       "  <thead>\n",
       "    <tr style=\"text-align: right;\">\n",
       "      <th></th>\n",
       "      <th>Census Tract</th>\n",
       "      <th>Total Population</th>\n",
       "      <th>California County</th>\n",
       "      <th>ZIP</th>\n",
       "      <th>Approximate Location</th>\n",
       "      <th>Longitude</th>\n",
       "      <th>Latitude</th>\n",
       "      <th>CES 4.0 Score</th>\n",
       "      <th>CES 4.0 Percentile</th>\n",
       "      <th>CES 4.0 Percentile Range</th>\n",
       "      <th>...</th>\n",
       "      <th>Linguistic Isolation Pctl</th>\n",
       "      <th>Poverty</th>\n",
       "      <th>Poverty Pctl</th>\n",
       "      <th>Unemployment</th>\n",
       "      <th>Unemployment Pctl</th>\n",
       "      <th>Housing Burden</th>\n",
       "      <th>Housing Burden Pctl</th>\n",
       "      <th>Pop. Char.</th>\n",
       "      <th>Pop. Char. Score</th>\n",
       "      <th>Pop. Char. Pctl</th>\n",
       "    </tr>\n",
       "  </thead>\n",
       "  <tbody>\n",
       "    <tr>\n",
       "      <th>0</th>\n",
       "      <td>6019001100</td>\n",
       "      <td>2780</td>\n",
       "      <td>Fresno</td>\n",
       "      <td>93706</td>\n",
       "      <td>Fresno</td>\n",
       "      <td>-119.781696</td>\n",
       "      <td>36.709695</td>\n",
       "      <td>93.183570</td>\n",
       "      <td>100.000000</td>\n",
       "      <td>95-100% (highest scores)</td>\n",
       "      <td>...</td>\n",
       "      <td>79.374746</td>\n",
       "      <td>76.0</td>\n",
       "      <td>98.919598</td>\n",
       "      <td>12.8</td>\n",
       "      <td>93.831338</td>\n",
       "      <td>30.3</td>\n",
       "      <td>91.039290</td>\n",
       "      <td>93.155109</td>\n",
       "      <td>9.663213</td>\n",
       "      <td>99.722642</td>\n",
       "    </tr>\n",
       "    <tr>\n",
       "      <th>1</th>\n",
       "      <td>6077000700</td>\n",
       "      <td>4680</td>\n",
       "      <td>San Joaquin</td>\n",
       "      <td>95206</td>\n",
       "      <td>Stockton</td>\n",
       "      <td>-121.287873</td>\n",
       "      <td>37.943173</td>\n",
       "      <td>86.653790</td>\n",
       "      <td>99.987393</td>\n",
       "      <td>95-100% (highest scores)</td>\n",
       "      <td>...</td>\n",
       "      <td>95.533902</td>\n",
       "      <td>73.2</td>\n",
       "      <td>98.391960</td>\n",
       "      <td>19.8</td>\n",
       "      <td>99.206143</td>\n",
       "      <td>31.2</td>\n",
       "      <td>92.281369</td>\n",
       "      <td>93.165408</td>\n",
       "      <td>9.664281</td>\n",
       "      <td>99.735250</td>\n",
       "    </tr>\n",
       "    <tr>\n",
       "      <th>2</th>\n",
       "      <td>6037204920</td>\n",
       "      <td>2751</td>\n",
       "      <td>Los Angeles</td>\n",
       "      <td>90023</td>\n",
       "      <td>Los Angeles</td>\n",
       "      <td>-118.197497</td>\n",
       "      <td>34.017500</td>\n",
       "      <td>82.393909</td>\n",
       "      <td>99.974786</td>\n",
       "      <td>95-100% (highest scores)</td>\n",
       "      <td>...</td>\n",
       "      <td>81.553661</td>\n",
       "      <td>62.6</td>\n",
       "      <td>93.391960</td>\n",
       "      <td>6.4</td>\n",
       "      <td>61.530453</td>\n",
       "      <td>20.3</td>\n",
       "      <td>63.967047</td>\n",
       "      <td>83.751814</td>\n",
       "      <td>8.687785</td>\n",
       "      <td>95.789208</td>\n",
       "    </tr>\n",
       "    <tr>\n",
       "      <th>3</th>\n",
       "      <td>6019000700</td>\n",
       "      <td>3664</td>\n",
       "      <td>Fresno</td>\n",
       "      <td>93706</td>\n",
       "      <td>Fresno</td>\n",
       "      <td>-119.827707</td>\n",
       "      <td>36.734535</td>\n",
       "      <td>81.327940</td>\n",
       "      <td>99.962179</td>\n",
       "      <td>95-100% (highest scores)</td>\n",
       "      <td>...</td>\n",
       "      <td>78.711598</td>\n",
       "      <td>65.7</td>\n",
       "      <td>95.351759</td>\n",
       "      <td>15.7</td>\n",
       "      <td>97.345133</td>\n",
       "      <td>35.4</td>\n",
       "      <td>96.413181</td>\n",
       "      <td>94.641227</td>\n",
       "      <td>9.817371</td>\n",
       "      <td>99.886536</td>\n",
       "    </tr>\n",
       "    <tr>\n",
       "      <th>4</th>\n",
       "      <td>6019000200</td>\n",
       "      <td>2689</td>\n",
       "      <td>Fresno</td>\n",
       "      <td>93706</td>\n",
       "      <td>Fresno</td>\n",
       "      <td>-119.805504</td>\n",
       "      <td>36.735491</td>\n",
       "      <td>80.745476</td>\n",
       "      <td>99.949571</td>\n",
       "      <td>95-100% (highest scores)</td>\n",
       "      <td>...</td>\n",
       "      <td>86.561104</td>\n",
       "      <td>72.7</td>\n",
       "      <td>98.304020</td>\n",
       "      <td>13.7</td>\n",
       "      <td>95.288912</td>\n",
       "      <td>32.7</td>\n",
       "      <td>94.157161</td>\n",
       "      <td>95.398873</td>\n",
       "      <td>9.895964</td>\n",
       "      <td>99.949571</td>\n",
       "    </tr>\n",
       "  </tbody>\n",
       "</table>\n",
       "<p>5 rows × 58 columns</p>\n",
       "</div>"
      ],
      "text/plain": [
       "   Census Tract  Total Population California County    ZIP  \\\n",
       "0    6019001100              2780           Fresno   93706   \n",
       "1    6077000700              4680       San Joaquin  95206   \n",
       "2    6037204920              2751       Los Angeles  90023   \n",
       "3    6019000700              3664           Fresno   93706   \n",
       "4    6019000200              2689           Fresno   93706   \n",
       "\n",
       "  Approximate Location   Longitude   Latitude  CES 4.0 Score  \\\n",
       "0               Fresno -119.781696  36.709695      93.183570   \n",
       "1             Stockton -121.287873  37.943173      86.653790   \n",
       "2          Los Angeles -118.197497  34.017500      82.393909   \n",
       "3               Fresno -119.827707  36.734535      81.327940   \n",
       "4               Fresno -119.805504  36.735491      80.745476   \n",
       "\n",
       "   CES 4.0 Percentile  CES 4.0 Percentile Range  ...  \\\n",
       "0          100.000000  95-100% (highest scores)  ...   \n",
       "1           99.987393  95-100% (highest scores)  ...   \n",
       "2           99.974786  95-100% (highest scores)  ...   \n",
       "3           99.962179  95-100% (highest scores)  ...   \n",
       "4           99.949571  95-100% (highest scores)  ...   \n",
       "\n",
       "   Linguistic Isolation Pctl  Poverty  Poverty Pctl  Unemployment  \\\n",
       "0                  79.374746     76.0     98.919598          12.8   \n",
       "1                  95.533902     73.2     98.391960          19.8   \n",
       "2                  81.553661     62.6     93.391960           6.4   \n",
       "3                  78.711598     65.7     95.351759          15.7   \n",
       "4                  86.561104     72.7     98.304020          13.7   \n",
       "\n",
       "   Unemployment Pctl  Housing Burden  Housing Burden Pctl  Pop. Char.   \\\n",
       "0          93.831338            30.3            91.039290    93.155109   \n",
       "1          99.206143            31.2            92.281369    93.165408   \n",
       "2          61.530453            20.3            63.967047    83.751814   \n",
       "3          97.345133            35.4            96.413181    94.641227   \n",
       "4          95.288912            32.7            94.157161    95.398873   \n",
       "\n",
       "   Pop. Char. Score  Pop. Char. Pctl  \n",
       "0          9.663213        99.722642  \n",
       "1          9.664281        99.735250  \n",
       "2          8.687785        95.789208  \n",
       "3          9.817371        99.886536  \n",
       "4          9.895964        99.949571  \n",
       "\n",
       "[5 rows x 58 columns]"
      ]
     },
     "execution_count": 11,
     "metadata": {},
     "output_type": "execute_result"
    }
   ],
   "source": [
    "# showing the first few observations of the data\n",
    "\n",
    "environment.head()"
   ]
  },
  {
   "cell_type": "markdown",
   "id": "3f395ecd-30e7-478b-921f-0c439a35a85d",
   "metadata": {},
   "source": [
    "We see that there are too many variables in the dataset. Just like what we did for the ACs dataset, we are going to filter some of the variables, before we merge it with the ACS dataset. To meet the objectives of this data exploration, we will isolate the housing burden measure and the Census Tract and the California County as a geographic identifier."
   ]
  },
  {
   "cell_type": "code",
   "execution_count": 12,
   "id": "b8672469-3f13-4d15-8d4f-c29107fed285",
   "metadata": {},
   "outputs": [],
   "source": [
    "# filtering the housing burden measure and the two geographic identifiers\n",
    "\n",
    "environment = environment[[\"Census Tract\", \"California County\", \"Housing Burden\"]]"
   ]
  },
  {
   "cell_type": "markdown",
   "id": "14b63f63-4b21-490c-902c-58a832d0a3bc",
   "metadata": {},
   "source": [
    "# ACS and CalEnviroScreen 4.0 Datasets (Merged)"
   ]
  },
  {
   "cell_type": "code",
   "execution_count": 13,
   "id": "83d14aad-adbf-4bac-88eb-8c689f0c75ed",
   "metadata": {},
   "outputs": [],
   "source": [
    "# merging the ACS using the geographic identifier, FIPS and Census Tract from the dataset\n",
    "\n",
    "housing_burden = pd.concat([selected_columns, environment], axis = 1)\n",
    "\n",
    "#a few comments:\n",
    "#we use the axis=1 argument to tell the dataset to be merged horizontally."
   ]
  },
  {
   "cell_type": "code",
   "execution_count": 14,
   "id": "cd46582d-ffd5-415a-80dc-660fccffd82f",
   "metadata": {},
   "outputs": [
    {
     "data": {
      "text/plain": [
       "(8057, 6)"
      ]
     },
     "execution_count": 14,
     "metadata": {},
     "output_type": "execute_result"
    }
   ],
   "source": [
    "# getting the number of columns and rows in the merged dataset, housing_burden\n",
    "\n",
    "housing_burden.shape"
   ]
  },
  {
   "cell_type": "code",
   "execution_count": 15,
   "id": "15e92686-dbcd-4295-a555-f8f30dd3862e",
   "metadata": {},
   "outputs": [
    {
     "data": {
      "text/html": [
       "<div>\n",
       "<style scoped>\n",
       "    .dataframe tbody tr th:only-of-type {\n",
       "        vertical-align: middle;\n",
       "    }\n",
       "\n",
       "    .dataframe tbody tr th {\n",
       "        vertical-align: top;\n",
       "    }\n",
       "\n",
       "    .dataframe thead th {\n",
       "        text-align: right;\n",
       "    }\n",
       "</style>\n",
       "<table border=\"1\" class=\"dataframe\">\n",
       "  <thead>\n",
       "    <tr style=\"text-align: right;\">\n",
       "      <th></th>\n",
       "      <th>Renter Occupied Counts</th>\n",
       "      <th>Census Tract #</th>\n",
       "      <th>FIPS</th>\n",
       "      <th>Census Tract</th>\n",
       "      <th>California County</th>\n",
       "      <th>Housing Burden</th>\n",
       "    </tr>\n",
       "  </thead>\n",
       "  <tbody>\n",
       "    <tr>\n",
       "      <th>0</th>\n",
       "      <td>143</td>\n",
       "      <td>Census Tract 4001</td>\n",
       "      <td>6001400100</td>\n",
       "      <td>6.019001e+09</td>\n",
       "      <td>Fresno</td>\n",
       "      <td>30.3</td>\n",
       "    </tr>\n",
       "    <tr>\n",
       "      <th>1</th>\n",
       "      <td>322</td>\n",
       "      <td>Census Tract 4002</td>\n",
       "      <td>6001400200</td>\n",
       "      <td>6.077001e+09</td>\n",
       "      <td>San Joaquin</td>\n",
       "      <td>31.2</td>\n",
       "    </tr>\n",
       "    <tr>\n",
       "      <th>2</th>\n",
       "      <td>1427</td>\n",
       "      <td>Census Tract 4003</td>\n",
       "      <td>6001400300</td>\n",
       "      <td>6.037205e+09</td>\n",
       "      <td>Los Angeles</td>\n",
       "      <td>20.3</td>\n",
       "    </tr>\n",
       "    <tr>\n",
       "      <th>3</th>\n",
       "      <td>1064</td>\n",
       "      <td>Census Tract 4004</td>\n",
       "      <td>6001400400</td>\n",
       "      <td>6.019001e+09</td>\n",
       "      <td>Fresno</td>\n",
       "      <td>35.4</td>\n",
       "    </tr>\n",
       "    <tr>\n",
       "      <th>4</th>\n",
       "      <td>968</td>\n",
       "      <td>Census Tract 4005</td>\n",
       "      <td>6001400500</td>\n",
       "      <td>6.019000e+09</td>\n",
       "      <td>Fresno</td>\n",
       "      <td>32.7</td>\n",
       "    </tr>\n",
       "  </tbody>\n",
       "</table>\n",
       "</div>"
      ],
      "text/plain": [
       "   Renter Occupied Counts     Census Tract #        FIPS  Census Tract  \\\n",
       "0                     143  Census Tract 4001  6001400100  6.019001e+09   \n",
       "1                     322  Census Tract 4002  6001400200  6.077001e+09   \n",
       "2                    1427  Census Tract 4003  6001400300  6.037205e+09   \n",
       "3                    1064  Census Tract 4004  6001400400  6.019001e+09   \n",
       "4                     968  Census Tract 4005  6001400500  6.019000e+09   \n",
       "\n",
       "  California County  Housing Burden  \n",
       "0           Fresno             30.3  \n",
       "1       San Joaquin            31.2  \n",
       "2       Los Angeles            20.3  \n",
       "3           Fresno             35.4  \n",
       "4           Fresno             32.7  "
      ]
     },
     "execution_count": 15,
     "metadata": {},
     "output_type": "execute_result"
    }
   ],
   "source": [
    "# checking the first few observations to check that only the necessary variables are present\n",
    "\n",
    "housing_burden.head()"
   ]
  },
  {
   "cell_type": "code",
   "execution_count": 16,
   "id": "28762134-1142-4218-96a3-e9acd637924d",
   "metadata": {},
   "outputs": [
    {
     "name": "stdout",
     "output_type": "stream",
     "text": [
      "<class 'pandas.core.frame.DataFrame'>\n",
      "RangeIndex: 8057 entries, 0 to 8056\n",
      "Data columns (total 6 columns):\n",
      " #   Column                  Non-Null Count  Dtype  \n",
      "---  ------                  --------------  -----  \n",
      " 0   Renter Occupied Counts  8057 non-null   int64  \n",
      " 1   Census Tract #          8057 non-null   object \n",
      " 2   FIPS                    8057 non-null   int64  \n",
      " 3   Census Tract            8035 non-null   float64\n",
      " 4   California County       8035 non-null   object \n",
      " 5   Housing Burden          7890 non-null   float64\n",
      "dtypes: float64(2), int64(2), object(2)\n",
      "memory usage: 377.8+ KB\n"
     ]
    }
   ],
   "source": [
    "# ensuring that all the variables has appropriate types\n",
    "\n",
    "housing_burden.info()"
   ]
  },
  {
   "cell_type": "markdown",
   "id": "39aefea1-2606-4942-a10f-44132bbcd9cf",
   "metadata": {},
   "source": [
    "Great! Now, we have a working dataset. Let's see how many tracts are there for each county. Ultimately, we want to find out the housing burden variable and counts of renter occupied units in Los Angeles city."
   ]
  },
  {
   "cell_type": "code",
   "execution_count": 17,
   "id": "c5195c63-c578-48e8-8265-66ac5e26aa4a",
   "metadata": {},
   "outputs": [
    {
     "data": {
      "text/plain": [
       "California County\n",
       "Los Angeles        2343\n",
       "San Diego           627\n",
       "Orange              582\n",
       "Riverside           453\n",
       "Santa Clara         372\n",
       "San Bernardino      369\n",
       "Alameda             360\n",
       "Sacramento          317\n",
       "Contra Costa        207\n",
       "Fresno              199\n",
       "San Francisco       195\n",
       "Ventura             173\n",
       "San Mateo           157\n",
       "Kern                151\n",
       "San Joaquin         139\n",
       "Sonoma               99\n",
       "Solano               96\n",
       "Stanislaus           94\n",
       "Monterey             93\n",
       "Santa Barbara        89\n",
       "Placer               84\n",
       "Tulare               78\n",
       "Marin                55\n",
       "San Luis Obispo      53\n",
       "Santa Cruz           52\n",
       "Butte                51\n",
       "Merced               49\n",
       "Shasta               48\n",
       "El Dorado            42\n",
       "Yolo                 41\n",
       "Napa                 40\n",
       "Imperial             31\n",
       "Humboldt             30\n",
       "Kings                27\n",
       "Madera               23\n",
       "Sutter               21\n",
       "Mendocino            20\n",
       "Nevada               20\n",
       "Lake                 15\n",
       "Yuba                 14\n",
       "Siskiyou             14\n",
       "San Benito           11\n",
       "Tehama               11\n",
       "Tuolumne             11\n",
       "Calaveras            10\n",
       "Lassen                9\n",
       "Amador                9\n",
       "Del Norte             7\n",
       "Plumas                7\n",
       "Glenn                 6\n",
       "Inyo                  6\n",
       "Mariposa              6\n",
       "Colusa                5\n",
       "Trinity               5\n",
       "Modoc                 4\n",
       "Mono                  3\n",
       "Sierra                1\n",
       "Alpine                1\n",
       "Name: count, dtype: int64"
      ]
     },
     "execution_count": 17,
     "metadata": {},
     "output_type": "execute_result"
    }
   ],
   "source": [
    "housing_burden['California County'].value_counts()"
   ]
  },
  {
   "cell_type": "markdown",
   "id": "2c7b3105-93d6-4115-8e95-6b16c8f2de52",
   "metadata": {},
   "source": [
    "Interestingly, the pd.value_counts() function chronologically puts the frequency of tracts per each county in descending order already. As we can see, there are 2343 tracts in Los Angeles county from this merged dataset. Now, let's make a data visualization of renter occupied units and housing burden in Los Angeles County."
   ]
  },
  {
   "cell_type": "code",
   "execution_count": 18,
   "id": "22a03737-bc82-4a13-8db1-97c3e338979c",
   "metadata": {},
   "outputs": [
    {
     "data": {
      "text/html": [
       "<div>\n",
       "<style scoped>\n",
       "    .dataframe tbody tr th:only-of-type {\n",
       "        vertical-align: middle;\n",
       "    }\n",
       "\n",
       "    .dataframe tbody tr th {\n",
       "        vertical-align: top;\n",
       "    }\n",
       "\n",
       "    .dataframe thead th {\n",
       "        text-align: right;\n",
       "    }\n",
       "</style>\n",
       "<table border=\"1\" class=\"dataframe\">\n",
       "  <thead>\n",
       "    <tr style=\"text-align: right;\">\n",
       "      <th></th>\n",
       "      <th>Renter Occupied Counts</th>\n",
       "      <th>Census Tract #</th>\n",
       "      <th>FIPS</th>\n",
       "      <th>Census Tract</th>\n",
       "      <th>California County</th>\n",
       "      <th>Housing Burden</th>\n",
       "    </tr>\n",
       "  </thead>\n",
       "  <tbody>\n",
       "    <tr>\n",
       "      <th>2</th>\n",
       "      <td>1427</td>\n",
       "      <td>Census Tract 4003</td>\n",
       "      <td>6001400300</td>\n",
       "      <td>6.037205e+09</td>\n",
       "      <td>Los Angeles</td>\n",
       "      <td>20.3</td>\n",
       "    </tr>\n",
       "    <tr>\n",
       "      <th>5</th>\n",
       "      <td>388</td>\n",
       "      <td>Census Tract 4006</td>\n",
       "      <td>6001400600</td>\n",
       "      <td>6.037542e+09</td>\n",
       "      <td>Los Angeles</td>\n",
       "      <td>23.7</td>\n",
       "    </tr>\n",
       "    <tr>\n",
       "      <th>7</th>\n",
       "      <td>984</td>\n",
       "      <td>Census Tract 4008</td>\n",
       "      <td>6001400800</td>\n",
       "      <td>6.037543e+09</td>\n",
       "      <td>Los Angeles</td>\n",
       "      <td>29.6</td>\n",
       "    </tr>\n",
       "    <tr>\n",
       "      <th>10</th>\n",
       "      <td>1652</td>\n",
       "      <td>Census Tract 4011</td>\n",
       "      <td>6001401100</td>\n",
       "      <td>6.037203e+09</td>\n",
       "      <td>Los Angeles</td>\n",
       "      <td>28.3</td>\n",
       "    </tr>\n",
       "    <tr>\n",
       "      <th>11</th>\n",
       "      <td>755</td>\n",
       "      <td>Census Tract 4012</td>\n",
       "      <td>6001401200</td>\n",
       "      <td>6.037291e+09</td>\n",
       "      <td>Los Angeles</td>\n",
       "      <td>26.1</td>\n",
       "    </tr>\n",
       "    <tr>\n",
       "      <th>...</th>\n",
       "      <td>...</td>\n",
       "      <td>...</td>\n",
       "      <td>...</td>\n",
       "      <td>...</td>\n",
       "      <td>...</td>\n",
       "      <td>...</td>\n",
       "    </tr>\n",
       "    <tr>\n",
       "      <th>7986</th>\n",
       "      <td>288</td>\n",
       "      <td>Census Tract 82.02</td>\n",
       "      <td>6111008202</td>\n",
       "      <td>6.037980e+09</td>\n",
       "      <td>Los Angeles</td>\n",
       "      <td>NaN</td>\n",
       "    </tr>\n",
       "    <tr>\n",
       "      <th>7987</th>\n",
       "      <td>628</td>\n",
       "      <td>Census Tract 83.02</td>\n",
       "      <td>6111008302</td>\n",
       "      <td>6.037980e+09</td>\n",
       "      <td>Los Angeles</td>\n",
       "      <td>NaN</td>\n",
       "    </tr>\n",
       "    <tr>\n",
       "      <th>7988</th>\n",
       "      <td>638</td>\n",
       "      <td>Census Tract 83.03</td>\n",
       "      <td>6111008303</td>\n",
       "      <td>6.037980e+09</td>\n",
       "      <td>Los Angeles</td>\n",
       "      <td>NaN</td>\n",
       "    </tr>\n",
       "    <tr>\n",
       "      <th>7989</th>\n",
       "      <td>476</td>\n",
       "      <td>Census Tract 83.04</td>\n",
       "      <td>6111008304</td>\n",
       "      <td>6.037980e+09</td>\n",
       "      <td>Los Angeles</td>\n",
       "      <td>NaN</td>\n",
       "    </tr>\n",
       "    <tr>\n",
       "      <th>7990</th>\n",
       "      <td>50</td>\n",
       "      <td>Census Tract 83.05</td>\n",
       "      <td>6111008305</td>\n",
       "      <td>6.037980e+09</td>\n",
       "      <td>Los Angeles</td>\n",
       "      <td>NaN</td>\n",
       "    </tr>\n",
       "  </tbody>\n",
       "</table>\n",
       "<p>2343 rows × 6 columns</p>\n",
       "</div>"
      ],
      "text/plain": [
       "      Renter Occupied Counts      Census Tract #        FIPS  Census Tract  \\\n",
       "2                       1427   Census Tract 4003  6001400300  6.037205e+09   \n",
       "5                        388   Census Tract 4006  6001400600  6.037542e+09   \n",
       "7                        984   Census Tract 4008  6001400800  6.037543e+09   \n",
       "10                      1652   Census Tract 4011  6001401100  6.037203e+09   \n",
       "11                       755   Census Tract 4012  6001401200  6.037291e+09   \n",
       "...                      ...                 ...         ...           ...   \n",
       "7986                     288  Census Tract 82.02  6111008202  6.037980e+09   \n",
       "7987                     628  Census Tract 83.02  6111008302  6.037980e+09   \n",
       "7988                     638  Census Tract 83.03  6111008303  6.037980e+09   \n",
       "7989                     476  Census Tract 83.04  6111008304  6.037980e+09   \n",
       "7990                      50  Census Tract 83.05  6111008305  6.037980e+09   \n",
       "\n",
       "     California County  Housing Burden  \n",
       "2          Los Angeles            20.3  \n",
       "5          Los Angeles            23.7  \n",
       "7          Los Angeles            29.6  \n",
       "10         Los Angeles            28.3  \n",
       "11         Los Angeles            26.1  \n",
       "...                ...             ...  \n",
       "7986       Los Angeles             NaN  \n",
       "7987       Los Angeles             NaN  \n",
       "7988       Los Angeles             NaN  \n",
       "7989       Los Angeles             NaN  \n",
       "7990       Los Angeles             NaN  \n",
       "\n",
       "[2343 rows x 6 columns]"
      ]
     },
     "execution_count": 18,
     "metadata": {},
     "output_type": "execute_result"
    }
   ],
   "source": [
    "# querying the data by only including the tracts in Los Angeles county\n",
    "\n",
    "LA_housing_burden = housing_burden.loc[housing_burden['California County'] == 'Los Angeles']\n",
    "LA_housing_burden"
   ]
  },
  {
   "cell_type": "code",
   "execution_count": 19,
   "id": "9866cb16-002e-46b0-b520-0c0db67cbde4",
   "metadata": {},
   "outputs": [
    {
     "data": {
      "text/plain": [
       "<Axes: ylabel='Frequency'>"
      ]
     },
     "execution_count": 19,
     "metadata": {},
     "output_type": "execute_result"
    },
    {
     "data": {
      "image/png": "[encoded data removed]",
      "text/plain": [
       "<Figure size 640x480 with 1 Axes>"
      ]
     },
     "metadata": {},
     "output_type": "display_data"
    }
   ],
   "source": [
    "# plotting the renter occupied counts of census tracts across LA county using histogram\n",
    "\n",
    "LA_housing_burden.plot.hist(column = 'Renter Occupied Counts', bins = 8)"
   ]
  },
  {
   "cell_type": "markdown",
   "id": "d2d2d369-18e0-4e1c-b387-f2bf1262afc0",
   "metadata": {},
   "source": [
    "We see that the distribution of renter occupied units of tracts in LA county is skewed to the right, where the median, as a measure of central tendency, is around 0-500 households."
   ]
  },
  {
   "cell_type": "code",
   "execution_count": 20,
   "id": "8b5b7035-3d22-4dc9-b72f-a9142fa258e9",
   "metadata": {},
   "outputs": [
    {
     "data": {
      "text/plain": [
       "<Axes: >"
      ]
     },
     "execution_count": 20,
     "metadata": {},
     "output_type": "execute_result"
    },
    {
     "data": {
      "image/png": "[encoded data removed]",
      "text/plain": [
       "<Figure size 640x480 with 1 Axes>"
      ]
     },
     "metadata": {},
     "output_type": "display_data"
    }
   ],
   "source": [
    "# plotting the housing burden using a boxplot\n",
    "\n",
    "LA_housing_burden.plot.box(column = 'Housing Burden')"
   ]
  },
  {
   "cell_type": "markdown",
   "id": "2e1375e7-3860-4582-b77e-c6e3898e1998",
   "metadata": {},
   "source": [
    "We see that the distribution of the housing burden index is skewed to the right with many outliers to the right side of the distribution. We also see that the median housing burden is around 20, with an interquartile range (IQR) of about 15."
   ]
  }
 ],
 "metadata": {
  "kernelspec": {
   "display_name": "Python 3 (ipykernel)",
   "language": "python",
   "name": "python3"
  },
  "language_info": {
   "codemirror_mode": {
    "name": "ipython",
    "version": 3
   },
   "file_extension": ".py",
   "mimetype": "text/x-python",
   "name": "python",
   "nbconvert_exporter": "python",
   "pygments_lexer": "ipython3",
   "version": "3.11.9"
  }
 },
 "nbformat": 4,
 "nbformat_minor": 5
}
